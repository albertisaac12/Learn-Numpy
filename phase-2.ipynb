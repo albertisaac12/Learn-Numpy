{
 "cells": [
  {
   "cell_type": "markdown",
   "id": "b1e57727",
   "metadata": {},
   "source": [
    "## Numpy Array Operations"
   ]
  },
  {
   "cell_type": "code",
   "execution_count": 1,
   "id": "48fac263",
   "metadata": {},
   "outputs": [],
   "source": [
    "import numpy as np"
   ]
  },
  {
   "cell_type": "code",
   "execution_count": 2,
   "id": "d05b5a0b",
   "metadata": {},
   "outputs": [
    {
     "name": "stdout",
     "output_type": "stream",
     "text": [
      "Basic Slicing [3 5 7]\n",
      "Basic Slicing [10  8  6  4  2]\n"
     ]
    }
   ],
   "source": [
    "arr = np.array([1,2,3,4,5,6,7,8,9,10])\n",
    "\n",
    "print(\"Basic Slicing\", arr[2:7:2])\n",
    "print(\"Basic Slicing\", arr[-1::-2])"
   ]
  },
  {
   "cell_type": "code",
   "execution_count": 3,
   "id": "8c2a81e6",
   "metadata": {},
   "outputs": [
    {
     "name": "stdout",
     "output_type": "stream",
     "text": [
      "6\n",
      "Entire Row:  [4 5 6]\n",
      "Entire Coloum:  [2 5 8]\n"
     ]
    }
   ],
   "source": [
    "\"\"\"Indexing on 2D array\"\"\"\n",
    "\n",
    "arr_2d = np.array([[1,2,3],[4,5,6],[7,8,9]])\n",
    "print(arr_2d[1,2])\n",
    "\n",
    "print(\"Entire Row: \",arr_2d[1])\n",
    "print(\"Entire Coloum: \",arr_2d[:,1])"
   ]
  },
  {
   "cell_type": "code",
   "execution_count": 4,
   "id": "0a94d8d1",
   "metadata": {},
   "outputs": [
    {
     "name": "stdout",
     "output_type": "stream",
     "text": [
      "[ 0  1  2  3  6  7  9  9 14 45 58 92]\n",
      "[[3 1]\n",
      " [1 2]\n",
      " [2 3]]\n",
      "[[1 1]\n",
      " [2 2]\n",
      " [3 3]]\n"
     ]
    }
   ],
   "source": [
    "\"\"\"Sorting\"\"\"\n",
    "\n",
    "unsorted = np.array([3,1,58,9,2,6,7,92,0,14,9,45])\n",
    "print(np.sort(unsorted))\n",
    "\n",
    "arr_2d_unsorted = np.array([[3,1],[1,2],[2,3]])\n",
    "print(arr_2d_unsorted)\n",
    "print(np.sort(arr_2d_unsorted,axis=0)) # axis zero is the coloum wise sorting, axis one is the row wise sorting"
   ]
  },
  {
   "cell_type": "code",
   "execution_count": 5,
   "id": "c19bb2e4",
   "metadata": {},
   "outputs": [
    {
     "name": "stdout",
     "output_type": "stream",
     "text": [
      "[ 0  1  2  3  4  5  6  7  8  9 10]\n",
      "[ 0  2  4  6  8 10]\n"
     ]
    }
   ],
   "source": [
    "\"\"\"Filtering\"\"\"\n",
    "\n",
    "numbers = np.arange(11)\n",
    "# print(numbers)\n",
    "\n",
    "even = numbers[numbers % 2 == 0] # this will always be 1D data\n",
    "print(numbers)\n",
    "print(even)"
   ]
  },
  {
   "cell_type": "code",
   "execution_count": 6,
   "id": "a8a2d8b4",
   "metadata": {},
   "outputs": [
    {
     "name": "stdout",
     "output_type": "stream",
     "text": [
      "[[1 2 3]\n",
      " [4 5 6]\n",
      " [7 8 9]]\n"
     ]
    }
   ],
   "source": [
    "\"\"\"Some Numbers\"\"\"\n",
    "\n",
    "numbers = np.array([[1,2,3],[4,5,6],[7,8,9]])\n",
    "\n",
    "some_num = numbers[numbers[1]>1]\n",
    "\n",
    "print(some_num)"
   ]
  },
  {
   "cell_type": "code",
   "execution_count": 7,
   "id": "c2980fb0",
   "metadata": {},
   "outputs": [
    {
     "name": "stdout",
     "output_type": "stream",
     "text": [
      "[[False False False]\n",
      " [False False  True]\n",
      " [ True  True  True]]\n",
      "[6 7 8 9]\n"
     ]
    }
   ],
   "source": [
    "\"\"\"Filter with mask\"\"\"\n",
    "\n",
    "numbers = np.array([[1,2,3],[4,5,6],[7,8,9]])\n",
    "mask = numbers > 5 # will return a matrix of true and false\n",
    "print(mask)\n",
    "\n",
    "print(numbers[mask]) # this will be an 1D array"
   ]
  },
  {
   "cell_type": "code",
   "execution_count": 8,
   "id": "7c07b7ac",
   "metadata": {},
   "outputs": [
    {
     "name": "stdout",
     "output_type": "stream",
     "text": [
      "[0 2 4]\n",
      "[False False False False False False  True  True  True  True  True]\n",
      "(array([ 6,  7,  8,  9, 10]),)\n",
      "[ 6  7  8  9 10]\n"
     ]
    }
   ],
   "source": [
    "\"\"\" Fancy Indexing vs np.where()\"\"\"\n",
    "numbers = np.arange(11)\n",
    "indices = [0,2,4]\n",
    "\n",
    "print(numbers[indices])\n",
    "\n",
    "where_Result = np.where(numbers > 5)\n",
    "\n",
    "mask = numbers > 5\n",
    "print(mask)\n",
    "print(where_Result)\n",
    "print(numbers[where_Result])\n"
   ]
  },
  {
   "cell_type": "code",
   "execution_count": 9,
   "id": "bad19e1f",
   "metadata": {},
   "outputs": [
    {
     "name": "stdout",
     "output_type": "stream",
     "text": [
      "[ 0  2  4  6  8 10  6  7  8  9 10 11 12 13 14 15 16 17 18 19 20 21 22 23\n",
      " 24]\n",
      "[ 0  2  4  6  8 10  6  7  8  9 10 11 12 13 14 15 16 17 18 19 20 21 22 23\n",
      " 24]\n"
     ]
    }
   ],
   "source": [
    "\"\"\"Condition array\"\"\"\n",
    "numbers = np.arange(25)\n",
    "condition_Array = np.where(numbers> 5,numbers,numbers*2)\n",
    "print(condition_Array)\n",
    "print(numbers[condition_Array])"
   ]
  },
  {
   "cell_type": "code",
   "execution_count": 10,
   "id": "114cb3d9",
   "metadata": {},
   "outputs": [
    {
     "name": "stdout",
     "output_type": "stream",
     "text": [
      "[1 2 3 4 5 6]\n"
     ]
    }
   ],
   "source": [
    "\"\"\"Adding and Removing\"\"\"\n",
    "\n",
    "arr1 = np.array([1,2,3])\n",
    "arr2 = np.array([4,5,6])\n",
    "\n",
    "combined = np.concatenate((arr1,arr2))\n",
    "print(combined)"
   ]
  },
  {
   "cell_type": "code",
   "execution_count": 11,
   "id": "cb95ff79",
   "metadata": {},
   "outputs": [
    {
     "name": "stdout",
     "output_type": "stream",
     "text": [
      "False\n"
     ]
    }
   ],
   "source": [
    "\"\"\"Array Compatablitiy\"\"\"\n",
    "\n",
    "a = np.array([1,2,3])\n",
    "b = np.array([4,5,6,7])\n",
    "c = np.array([9,55,3])\n",
    "\n",
    "print(a.shape == b.shape)"
   ]
  },
  {
   "cell_type": "code",
   "execution_count": 12,
   "id": "c8fdcc33",
   "metadata": {},
   "outputs": [
    {
     "name": "stdout",
     "output_type": "stream",
     "text": [
      "[[0 1]]\n",
      "[[2 3]\n",
      " [4 5]\n",
      " [0 1]]\n"
     ]
    }
   ],
   "source": [
    "\"\"\"Adding Rows\"\"\"\n",
    "\n",
    "a = np.array([[2,3],[4,5]])\n",
    "b= np.array([[0,1]])\n",
    "\n",
    "with_new_row = np.vstack([a,b])\n",
    "print(b)\n",
    "print(with_new_row)\n"
   ]
  },
  {
   "cell_type": "code",
   "execution_count": null,
   "id": "646a799d",
   "metadata": {},
   "outputs": [
    {
     "name": "stdout",
     "output_type": "stream",
     "text": [
      "[[2 3 1]\n",
      " [4 5 2]]\n"
     ]
    }
   ],
   "source": [
    "\"\"\"Adding Coloums\"\"\"\n",
    "new_col = np.array([[1],[2]])\n",
    "\n",
    "with_new_col = np.hstack([a,new_col])\n",
    "print(with_new_col)"
   ]
  },
  {
   "cell_type": "code",
   "execution_count": null,
   "id": "83ce5fb9",
   "metadata": {},
   "outputs": [
    {
     "name": "stdout",
     "output_type": "stream",
     "text": [
      "[ 1  2  4  5  6  7  8  9 10]\n"
     ]
    }
   ],
   "source": [
    "\"\"\"Deleting data\"\"\"\n",
    "\n",
    "arr = np.array([1,2,3,4,5,6,7,8,9,10])\n",
    "\n",
    "deleted = np.delete(arr,2)\n",
    "print(deleted)\n"
   ]
  },
  {
   "cell_type": "code",
   "execution_count": null,
   "id": "d0c1fff9",
   "metadata": {},
   "outputs": [],
   "source": []
  }
 ],
 "metadata": {
  "kernelspec": {
   "display_name": "nyt",
   "language": "python",
   "name": "python3"
  },
  "language_info": {
   "codemirror_mode": {
    "name": "ipython",
    "version": 3
   },
   "file_extension": ".py",
   "mimetype": "text/x-python",
   "name": "python",
   "nbconvert_exporter": "python",
   "pygments_lexer": "ipython3",
   "version": "3.12.3"
  }
 },
 "nbformat": 4,
 "nbformat_minor": 5
}
