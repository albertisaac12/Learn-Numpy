{
 "cells": [
  {
   "cell_type": "markdown",
   "id": "8cb6d769",
   "metadata": {},
   "source": [
    "## Numpy array and basics"
   ]
  },
  {
   "cell_type": "code",
   "execution_count": 7,
   "id": "9323b51e",
   "metadata": {},
   "outputs": [],
   "source": [
    "import numpy as np"
   ]
  },
  {
   "cell_type": "code",
   "execution_count": 8,
   "id": "ca3ed328",
   "metadata": {},
   "outputs": [
    {
     "name": "stdout",
     "output_type": "stream",
     "text": [
      "[1 2 3 4 5]\n",
      "[[1 2 3]\n",
      " [4 5 6]]\n"
     ]
    }
   ],
   "source": [
    "arr_1d = np.array([1,2,3,4,5])\n",
    "print(arr_1d)\n",
    "\n",
    "arr_2d = np.array([[1,2,3],[4,5,6]]) # numpy will always take only one main list\n",
    "print(arr_2d)"
   ]
  },
  {
   "cell_type": "code",
   "execution_count": 9,
   "id": "059fccb6",
   "metadata": {},
   "outputs": [
    {
     "name": "stdout",
     "output_type": "stream",
     "text": [
      "[1, 2, 3, 1, 2, 3, 1, 2, 3]\n",
      "[2 4 6]\n",
      "[      0       1       2 ... 9999997 9999998 9999999]\n"
     ]
    }
   ],
   "source": [
    "\"\"\"\n",
    "    List vs numpy array\n",
    "\"\"\"\n",
    "\n",
    "py_list = [1,2,3]\n",
    "print(py_list*3) # this will end up becoming thrice in length and 1 2 3  will be repeated thrice\n",
    "\n",
    "np_array = np.array([1,2,3])\n",
    "print(np_array*2)\n",
    "\n",
    "np_Arr = np.arange(10000000)\n",
    "print(np_Arr)"
   ]
  },
  {
   "cell_type": "code",
   "execution_count": 10,
   "id": "b8fa60eb",
   "metadata": {},
   "outputs": [
    {
     "name": "stdout",
     "output_type": "stream",
     "text": [
      "[[0. 0. 0. 0.]\n",
      " [0. 0. 0. 0.]\n",
      " [0. 0. 0. 0.]]\n",
      "[[1. 1. 1. 1.]\n",
      " [1. 1. 1. 1.]\n",
      " [1. 1. 1. 1.]]\n"
     ]
    }
   ],
   "source": [
    "zeros = np.zeros([3,4])\n",
    "print(zeros)\n",
    "\n",
    "ones = np.ones([3,4])\n",
    "print(ones)"
   ]
  },
  {
   "cell_type": "code",
   "execution_count": 11,
   "id": "05130ebd",
   "metadata": {},
   "outputs": [
    {
     "name": "stdout",
     "output_type": "stream",
     "text": [
      "[[7 7]\n",
      " [7 7]]\n"
     ]
    }
   ],
   "source": [
    "full = np.full([2,2],7)\n",
    "print(full)"
   ]
  },
  {
   "cell_type": "code",
   "execution_count": 12,
   "id": "9abfdf13",
   "metadata": {},
   "outputs": [
    {
     "name": "stdout",
     "output_type": "stream",
     "text": [
      "[[0.61559903 0.76595907 0.69745293]\n",
      " [0.14301849 0.09047716 0.18228439]]\n"
     ]
    }
   ],
   "source": [
    "random = np.random.random([2,3])\n",
    "print(random)"
   ]
  },
  {
   "cell_type": "code",
   "execution_count": 13,
   "id": "681b9177",
   "metadata": {},
   "outputs": [
    {
     "name": "stdout",
     "output_type": "stream",
     "text": [
      "[0 2 4 6 8]\n"
     ]
    }
   ],
   "source": [
    "sequemce = np.arange(0,10,2)\n",
    "print(sequemce)"
   ]
  },
  {
   "cell_type": "code",
   "execution_count": 14,
   "id": "12739746",
   "metadata": {},
   "outputs": [
    {
     "name": "stdout",
     "output_type": "stream",
     "text": [
      "[1 2 3]\n",
      "[[1 2 3]\n",
      " [4 5 6]]\n",
      "[[[1 2]\n",
      "  [3 4]]\n",
      "\n",
      " [[5 6]\n",
      "  [7 8]]]\n"
     ]
    }
   ],
   "source": [
    "\"\"\"Vector matrix and Tensor\"\"\"\n",
    "\n",
    "vector = np.array([1,2,3])\n",
    "print(vector)\n",
    "\n",
    "matrix = np.array([[1,2,3],[4,5,6]])\n",
    "print(matrix)\n",
    "\n",
    "tensor = np.array([[[1,2],[3,4]],\n",
    "                   [[5,6],[7,8]]])\n",
    "\n",
    "print(tensor)"
   ]
  },
  {
   "cell_type": "code",
   "execution_count": 15,
   "id": "2800396b",
   "metadata": {},
   "outputs": [
    {
     "name": "stdout",
     "output_type": "stream",
     "text": [
      "Shape of array:  (3, 3)\n",
      "Dimension:  2\n",
      "Size:  9\n",
      "Dtype:  int64\n"
     ]
    }
   ],
   "source": [
    "\"\"\"Array Properties\"\"\"\n",
    "\n",
    "arr = np.array([[1,2,3],[4,5,6],[1,2,3]])\n",
    "\n",
    "print(\"Shape of array: \", arr.shape)\n",
    "print(\"Dimension: \", arr.ndim)\n",
    "print(\"Size: \", arr.size)\n",
    "print(\"Dtype: \", arr.dtype)"
   ]
  },
  {
   "cell_type": "code",
   "execution_count": 18,
   "id": "545c0f24",
   "metadata": {},
   "outputs": [
    {
     "name": "stdout",
     "output_type": "stream",
     "text": [
      "Orignial Array:  [ 0  1  2  3  4  5  6  7  8  9 10 11]\n",
      "\n",
      " Reshaped array [[ 0  1  2  3]\n",
      " [ 4  5  6  7]\n",
      " [ 8  9 10 11]]\n",
      "\n",
      " Flattened array:  [ 0  1  2  3  4  5  6  7  8  9 10 11]\n",
      "\n",
      " Raveled array:  [ 0  1  2  3  4  5  6  7  8  9 10 11]\n",
      "\n",
      " Transposed Array: \n",
      " [[ 0  4  8]\n",
      " [ 1  5  9]\n",
      " [ 2  6 10]\n",
      " [ 3  7 11]]\n"
     ]
    }
   ],
   "source": [
    "\"\"\"Array Reshaping\"\"\"\n",
    "arr = np.arange(12)\n",
    "print(\"Orignial Array: \", arr)\n",
    "\n",
    "reshaped = arr.reshape(3,4)\n",
    "print(\"\\n Reshaped array\",reshaped)\n",
    "\n",
    "flattened = reshaped.flatten()\n",
    "print(\"\\n Flattened array: \", flattened)\n",
    "\n",
    "# returns view , instead of copy\n",
    "\"\"\"View baically operates on the same data given but copy creates a new clone of the data\"\"\"\n",
    "raveled = reshaped.ravel() # Ravel works the same way as flatten but works on view meaning it cahnges the data\n",
    "print(\"\\n Raveled array: \", raveled)\n",
    "\n",
    "\"\"\"Transpose\"\"\"\n",
    "\n",
    "transpose = reshaped.T\n",
    "print(\"\\n Transposed Array: \\n\", transpose)\n"
   ]
  },
  {
   "cell_type": "code",
   "execution_count": 17,
   "id": "5f24a79a",
   "metadata": {},
   "outputs": [
    {
     "data": {
      "text/plain": [
       "'https://www.youtube.com/watch?v=x7ULDYs4X84'"
      ]
     },
     "execution_count": 17,
     "metadata": {},
     "output_type": "execute_result"
    }
   ],
   "source": [
    "\"\"\"https://www.youtube.com/watch?v=x7ULDYs4X84\"\"\""
   ]
  },
  {
   "cell_type": "markdown",
   "id": "71b84ed3",
   "metadata": {},
   "source": [
    "## Phase 2"
   ]
  },
  {
   "cell_type": "code",
   "execution_count": null,
   "id": "14ec7484",
   "metadata": {},
   "outputs": [],
   "source": []
  }
 ],
 "metadata": {
  "kernelspec": {
   "display_name": "nyt",
   "language": "python",
   "name": "python3"
  },
  "language_info": {
   "codemirror_mode": {
    "name": "ipython",
    "version": 3
   },
   "file_extension": ".py",
   "mimetype": "text/x-python",
   "name": "python",
   "nbconvert_exporter": "python",
   "pygments_lexer": "ipython3",
   "version": "3.12.3"
  }
 },
 "nbformat": 4,
 "nbformat_minor": 5
}
